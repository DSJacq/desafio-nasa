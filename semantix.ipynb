{
 "cells": [
  {
   "cell_type": "markdown",
   "metadata": {},
   "source": [
    "### *.Preparar o ambiente"
   ]
  },
  {
   "cell_type": "code",
   "execution_count": 1,
   "metadata": {},
   "outputs": [],
   "source": []
  },
  {
   "cell_type": "code",
   "execution_count": 2,
   "metadata": {},
   "outputs": [],
   "source": [
    "# import libraries\n",
    "import pyspark\n",
    "from pyspark import SparkContext, SparkConf\n",
    "from pyspark.sql import SparkSession\n",
    "from operator import add"
   ]
  },
  {
   "cell_type": "code",
   "execution_count": 3,
   "metadata": {},
   "outputs": [],
   "source": [
    "# Spark configurations\n",
    "conf = (SparkConf()\n",
    "        .setMaster(\"local\")\n",
    "        .setAppName(\"nasa\")\n",
    "        .set(\"spark.executor.memory\", \"4g\"))"
   ]
  },
  {
   "cell_type": "code",
   "execution_count": 4,
   "metadata": {},
   "outputs": [],
   "source": [
    "# initialize SparkContext\n",
    "sc = SparkContext(conf=conf)"
   ]
  },
  {
   "cell_type": "markdown",
   "metadata": {},
   "source": [
    "### *. Carregar arquivos"
   ]
  },
  {
   "cell_type": "code",
   "execution_count": 5,
   "metadata": {},
   "outputs": [],
   "source": [
    "# load file access_log_Jul95\n",
    "jul = sc.textFile(\"access_log_Jul95\")\n",
    "jul = jul.cache()"
   ]
  },
  {
   "cell_type": "code",
   "execution_count": 6,
   "metadata": {},
   "outputs": [],
   "source": [
    "# load file access_log_Aug95\n",
    "aug= sc.textFile(\"access_log_Aug95\")\n",
    "aug = aug.cache()"
   ]
  },
  {
   "cell_type": "code",
   "execution_count": 7,
   "metadata": {},
   "outputs": [],
   "source": []
  },
  {
   "cell_type": "markdown",
   "metadata": {},
   "source": [
    "### 1. Número de hosts únicos"
   ]
  },
  {
   "cell_type": "code",
   "execution_count": 8,
   "metadata": {},
   "outputs": [],
   "source": [
    "def count_unique_host(rdd, period):\n",
    "    try:\n",
    "        hosts = rdd.flatMap(lambda i: i.split(\" \")[0]).distinct().count()  \n",
    "    except ValueError as e:\n",
    "        print(e)\n",
    "    return print(\"Number of unique hosts on {}: {}.\".format(period, hosts))"
   ]
  },
  {
   "cell_type": "code",
   "execution_count": 9,
   "metadata": {},
   "outputs": [
    {
     "name": "stdout",
     "output_type": "stream",
     "text": [
      "Number of unique hosts on july: 55.\n"
     ]
    }
   ],
   "source": [
    "count_unique_host(jul, \"july\")"
   ]
  },
  {
   "cell_type": "code",
   "execution_count": 10,
   "metadata": {},
   "outputs": [
    {
     "name": "stdout",
     "output_type": "stream",
     "text": [
      "Number of unique hosts on august: 53.\n"
     ]
    }
   ],
   "source": [
    "count_unique_host(aug, \"august\")"
   ]
  },
  {
   "cell_type": "markdown",
   "metadata": {},
   "source": [
    "### 2. O total de erros 404"
   ]
  },
  {
   "cell_type": "code",
   "execution_count": 11,
   "metadata": {},
   "outputs": [],
   "source": [
    "def count_error_404(rdd, period):\n",
    "    try:\n",
    "        def url_404(line):\n",
    "            try:\n",
    "                url = line.split(\" \")[-2]\n",
    "                if url == \"404\":\n",
    "                    return True\n",
    "            except:\n",
    "                pass\n",
    "            return False\n",
    "        count = rdd.filter(url_404).cache()\n",
    "        count_404 = count.count()\n",
    "    except ValueError as e:\n",
    "        print(e)\n",
    "    return print(\"Total number of 404 erros on {}: {}.\".format(period, count_404))"
   ]
  },
  {
   "cell_type": "code",
   "execution_count": 12,
   "metadata": {},
   "outputs": [
    {
     "name": "stdout",
     "output_type": "stream",
     "text": [
      "Total number of 404 erros on july: 10845.\n"
     ]
    }
   ],
   "source": [
    "count_error_404(jul, \"july\")"
   ]
  },
  {
   "cell_type": "code",
   "execution_count": 13,
   "metadata": {},
   "outputs": [
    {
     "name": "stdout",
     "output_type": "stream",
     "text": [
      "Total number of 404 erros on august: 10056.\n"
     ]
    }
   ],
   "source": [
    "count_error_404(aug, \"august\")"
   ]
  },
  {
   "cell_type": "markdown",
   "metadata": {},
   "source": [
    "### 3. Os 5 URLs que mais causaram erro 404"
   ]
  },
  {
   "cell_type": "code",
   "execution_count": 14,
   "metadata": {},
   "outputs": [],
   "source": [
    "def url_404(rdd):\n",
    "    try:\n",
    "        url = rdd.split(\" \")[-2]\n",
    "        if url == \"404\":\n",
    "            return True\n",
    "    except ValueError as e:\n",
    "        print(e)\n",
    "    return False"
   ]
  },
  {
   "cell_type": "code",
   "execution_count": 15,
   "metadata": {},
   "outputs": [],
   "source": [
    "jul_404 = jul.filter(url_404).cache()"
   ]
  },
  {
   "cell_type": "code",
   "execution_count": 16,
   "metadata": {},
   "outputs": [],
   "source": [
    "aug_404 = aug.filter(url_404).cache()"
   ]
  },
  {
   "cell_type": "code",
   "execution_count": 17,
   "metadata": {},
   "outputs": [],
   "source": [
    "def top5_url_error_404(rdd_url_404):\n",
    "    try:\n",
    "        url_404 = rdd_url_404.map(lambda line: line.split('\"')[1].split(' ')[1])\n",
    "        count_404 = url_404.map(lambda i: (i, 1)).reduceByKey(add)\n",
    "        top_5 = count_404.sortBy(lambda i: -i[1]).take(5)\n",
    "        print(\"Top 5 url with most frequent 404 errors:\")\n",
    "        for url_404, count_404 in top_5:\n",
    "            print(\"{}: {}\".format(url_404, count_404))\n",
    "        return top_5\n",
    "    except ValueError as e:\n",
    "        print(e)\n",
    "    return False"
   ]
  },
  {
   "cell_type": "code",
   "execution_count": 18,
   "metadata": {},
   "outputs": [
    {
     "name": "stdout",
     "output_type": "stream",
     "text": [
      "Top 5 url with most frequent 404 errors:\n",
      "/pub/winvn/readme.txt: 667\n",
      "/pub/winvn/release.txt: 547\n",
      "/history/apollo/apollo-13.html: 286\n",
      "/shuttle/resources/orbiters/atlantis.gif: 232\n",
      "/history/apollo/a-001/a-001-patch-small.gif: 230\n"
     ]
    },
    {
     "data": {
      "text/plain": [
       "[('/pub/winvn/readme.txt', 667),\n",
       " ('/pub/winvn/release.txt', 547),\n",
       " ('/history/apollo/apollo-13.html', 286),\n",
       " ('/shuttle/resources/orbiters/atlantis.gif', 232),\n",
       " ('/history/apollo/a-001/a-001-patch-small.gif', 230)]"
      ]
     },
     "execution_count": 18,
     "metadata": {},
     "output_type": "execute_result"
    }
   ],
   "source": [
    "top5_url_error_404(jul_404)"
   ]
  },
  {
   "cell_type": "code",
   "execution_count": 19,
   "metadata": {},
   "outputs": [
    {
     "name": "stdout",
     "output_type": "stream",
     "text": [
      "Top 5 url with most frequent 404 errors:\n",
      "/pub/winvn/readme.txt: 1337\n",
      "/pub/winvn/release.txt: 1185\n",
      "/shuttle/missions/STS-69/mission-STS-69.html: 683\n",
      "/images/nasa-logo.gif: 319\n",
      "/shuttle/missions/sts-68/ksc-upclose.gif: 253\n"
     ]
    },
    {
     "data": {
      "text/plain": [
       "[('/pub/winvn/readme.txt', 1337),\n",
       " ('/pub/winvn/release.txt', 1185),\n",
       " ('/shuttle/missions/STS-69/mission-STS-69.html', 683),\n",
       " ('/images/nasa-logo.gif', 319),\n",
       " ('/shuttle/missions/sts-68/ksc-upclose.gif', 253)]"
      ]
     },
     "execution_count": 19,
     "metadata": {},
     "output_type": "execute_result"
    }
   ],
   "source": [
    "top5_url_error_404(aug_404)"
   ]
  },
  {
   "cell_type": "markdown",
   "metadata": {},
   "source": [
    "### 4. Quantidade de erros 404 por dia"
   ]
  },
  {
   "cell_type": "code",
   "execution_count": 20,
   "metadata": {},
   "outputs": [],
   "source": [
    "def error_404_daily(rdd_url_404, period):\n",
    "    try:\n",
    "        days = rdd_url_404.map(lambda i: i.split(\"[\")[1].split(\":\")[0])\n",
    "        counts = days.map(lambda day: (day, 1)).reduceByKey(add).collect()\n",
    "        print(\"Number of errors 404 per day on {}:\".format(period))\n",
    "        for day, count in counts:\n",
    "            print(\"{}: {}\".format(day, count))\n",
    "        return counts\n",
    "    except ValueError as e:\n",
    "        print(e)\n",
    "    return False       "
   ]
  },
  {
   "cell_type": "code",
   "execution_count": 21,
   "metadata": {},
   "outputs": [
    {
     "name": "stdout",
     "output_type": "stream",
     "text": [
      "Number of errors 404 per day on july:\n",
      "13/Jul/1995: 532\n",
      "21/Jul/1995: 334\n",
      "25/Jul/1995: 461\n",
      "09/Jul/1995: 348\n",
      "15/Jul/1995: 254\n",
      "16/Jul/1995: 257\n",
      "18/Jul/1995: 465\n",
      "17/Jul/1995: 406\n",
      "07/Jul/1995: 570\n",
      "12/Jul/1995: 471\n",
      "19/Jul/1995: 639\n",
      "22/Jul/1995: 192\n",
      "23/Jul/1995: 233\n",
      "03/Jul/1995: 474\n",
      "05/Jul/1995: 497\n",
      "10/Jul/1995: 398\n",
      "14/Jul/1995: 413\n",
      "01/Jul/1995: 316\n",
      "02/Jul/1995: 291\n",
      "04/Jul/1995: 359\n",
      "06/Jul/1995: 640\n",
      "08/Jul/1995: 302\n",
      "11/Jul/1995: 471\n",
      "20/Jul/1995: 428\n",
      "24/Jul/1995: 328\n",
      "26/Jul/1995: 336\n",
      "27/Jul/1995: 336\n",
      "28/Jul/1995: 94\n"
     ]
    },
    {
     "data": {
      "text/plain": [
       "[('13/Jul/1995', 532),\n",
       " ('21/Jul/1995', 334),\n",
       " ('25/Jul/1995', 461),\n",
       " ('09/Jul/1995', 348),\n",
       " ('15/Jul/1995', 254),\n",
       " ('16/Jul/1995', 257),\n",
       " ('18/Jul/1995', 465),\n",
       " ('17/Jul/1995', 406),\n",
       " ('07/Jul/1995', 570),\n",
       " ('12/Jul/1995', 471),\n",
       " ('19/Jul/1995', 639),\n",
       " ('22/Jul/1995', 192),\n",
       " ('23/Jul/1995', 233),\n",
       " ('03/Jul/1995', 474),\n",
       " ('05/Jul/1995', 497),\n",
       " ('10/Jul/1995', 398),\n",
       " ('14/Jul/1995', 413),\n",
       " ('01/Jul/1995', 316),\n",
       " ('02/Jul/1995', 291),\n",
       " ('04/Jul/1995', 359),\n",
       " ('06/Jul/1995', 640),\n",
       " ('08/Jul/1995', 302),\n",
       " ('11/Jul/1995', 471),\n",
       " ('20/Jul/1995', 428),\n",
       " ('24/Jul/1995', 328),\n",
       " ('26/Jul/1995', 336),\n",
       " ('27/Jul/1995', 336),\n",
       " ('28/Jul/1995', 94)]"
      ]
     },
     "execution_count": 21,
     "metadata": {},
     "output_type": "execute_result"
    }
   ],
   "source": [
    "error_404_daily(jul_404, \"july\")"
   ]
  },
  {
   "cell_type": "code",
   "execution_count": 22,
   "metadata": {},
   "outputs": [
    {
     "name": "stdout",
     "output_type": "stream",
     "text": [
      "Number of errors 404 per day on august:\n",
      "01/Aug/1995: 243\n",
      "07/Aug/1995: 537\n",
      "09/Aug/1995: 279\n",
      "10/Aug/1995: 315\n",
      "21/Aug/1995: 305\n",
      "27/Aug/1995: 370\n",
      "30/Aug/1995: 571\n",
      "03/Aug/1995: 304\n",
      "06/Aug/1995: 373\n",
      "08/Aug/1995: 391\n",
      "16/Aug/1995: 259\n",
      "20/Aug/1995: 312\n",
      "05/Aug/1995: 236\n",
      "11/Aug/1995: 263\n",
      "12/Aug/1995: 196\n",
      "13/Aug/1995: 216\n",
      "15/Aug/1995: 327\n",
      "17/Aug/1995: 271\n",
      "22/Aug/1995: 288\n",
      "23/Aug/1995: 345\n",
      "24/Aug/1995: 420\n",
      "26/Aug/1995: 366\n",
      "28/Aug/1995: 410\n",
      "14/Aug/1995: 287\n",
      "18/Aug/1995: 256\n",
      "19/Aug/1995: 209\n",
      "31/Aug/1995: 526\n",
      "04/Aug/1995: 346\n",
      "25/Aug/1995: 415\n",
      "29/Aug/1995: 420\n"
     ]
    },
    {
     "data": {
      "text/plain": [
       "[('01/Aug/1995', 243),\n",
       " ('07/Aug/1995', 537),\n",
       " ('09/Aug/1995', 279),\n",
       " ('10/Aug/1995', 315),\n",
       " ('21/Aug/1995', 305),\n",
       " ('27/Aug/1995', 370),\n",
       " ('30/Aug/1995', 571),\n",
       " ('03/Aug/1995', 304),\n",
       " ('06/Aug/1995', 373),\n",
       " ('08/Aug/1995', 391),\n",
       " ('16/Aug/1995', 259),\n",
       " ('20/Aug/1995', 312),\n",
       " ('05/Aug/1995', 236),\n",
       " ('11/Aug/1995', 263),\n",
       " ('12/Aug/1995', 196),\n",
       " ('13/Aug/1995', 216),\n",
       " ('15/Aug/1995', 327),\n",
       " ('17/Aug/1995', 271),\n",
       " ('22/Aug/1995', 288),\n",
       " ('23/Aug/1995', 345),\n",
       " ('24/Aug/1995', 420),\n",
       " ('26/Aug/1995', 366),\n",
       " ('28/Aug/1995', 410),\n",
       " ('14/Aug/1995', 287),\n",
       " ('18/Aug/1995', 256),\n",
       " ('19/Aug/1995', 209),\n",
       " ('31/Aug/1995', 526),\n",
       " ('04/Aug/1995', 346),\n",
       " ('25/Aug/1995', 415),\n",
       " ('29/Aug/1995', 420)]"
      ]
     },
     "execution_count": 22,
     "metadata": {},
     "output_type": "execute_result"
    }
   ],
   "source": [
    "error_404_daily(aug_404, \"august\")"
   ]
  },
  {
   "cell_type": "markdown",
   "metadata": {},
   "source": [
    "### 5. O total de bytes retornados"
   ]
  },
  {
   "cell_type": "code",
   "execution_count": 23,
   "metadata": {},
   "outputs": [],
   "source": [
    "def size_file_bytes(rdd, period):\n",
    "    try:\n",
    "        def count_byte(line):\n",
    "            try:\n",
    "                count = int(line.split(\" \")[-1])\n",
    "                if count < 0:\n",
    "                    raise ValueError()\n",
    "                return count\n",
    "            except:\n",
    "                return 0\n",
    "        count = rdd.map(count_byte).reduce(lambda x, y: x + y)\n",
    "        return print(\"Number of bytes of {} file: {}\".format(period, count))\n",
    "    except ValueError as e:\n",
    "        print(e)\n",
    "    return \"\""
   ]
  },
  {
   "cell_type": "code",
   "execution_count": 24,
   "metadata": {},
   "outputs": [
    {
     "name": "stdout",
     "output_type": "stream",
     "text": [
      "Number of bytes of july file: 38695973491\n"
     ]
    }
   ],
   "source": [
    "size_file_bytes(jul, \"july\")"
   ]
  },
  {
   "cell_type": "code",
   "execution_count": 25,
   "metadata": {},
   "outputs": [
    {
     "name": "stdout",
     "output_type": "stream",
     "text": [
      "Number of bytes of august file: 26828341424\n"
     ]
    }
   ],
   "source": [
    "size_file_bytes(aug, \"august\")"
   ]
  },
  {
   "cell_type": "markdown",
   "metadata": {},
   "source": [
    "### *.Fim"
   ]
  },
  {
   "cell_type": "code",
   "execution_count": 26,
   "metadata": {},
   "outputs": [],
   "source": [
    "sc.stop()"
   ]
  },
  {
   "cell_type": "code",
   "execution_count": null,
   "metadata": {},
   "outputs": [],
   "source": []
  }
 ],
 "metadata": {
  "kernelspec": {
   "display_name": "Python 3",
   "language": "python",
   "name": "python3"
  },
  "language_info": {
   "codemirror_mode": {
    "name": "ipython",
    "version": 3
   },
   "file_extension": ".py",
   "mimetype": "text/x-python",
   "name": "python",
   "nbconvert_exporter": "python",
   "pygments_lexer": "ipython3",
   "version": "3.7.4"
  }
 },
 "nbformat": 4,
 "nbformat_minor": 2
}
